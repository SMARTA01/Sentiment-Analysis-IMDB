{
  "nbformat": 4,
  "nbformat_minor": 0,
  "metadata": {
    "colab": {
      "name": "Sentiment Analysis on IMDB movie review datset.ipynb",
      "provenance": []
    },
    "kernelspec": {
      "name": "python3",
      "display_name": "Python 3"
    },
    "language_info": {
      "name": "python"
    },
    "accelerator": "GPU"
  },
  "cells": [
    {
      "cell_type": "code",
      "execution_count": 2,
      "metadata": {
        "id": "tRXtekIJrBiM"
      },
      "outputs": [],
      "source": [
        "import numpy as np\n",
        "import tensorflow_datasets as tfds\n",
        "import tensorflow as tf\n",
        "import matplotlib.pyplot as plt \n",
        "tfds.disable_progress_bar()"
      ]
    },
    {
      "cell_type": "code",
      "source": [
        "#Helper Function to plot graph\n",
        "def plot_graphs(history, metric):\n",
        "  plt.plot(history.history[metric])\n",
        "  plt.plot(history.history['val_'+metric], '')\n",
        "  plt.xlabel(\"Epochs\")\n",
        "  plt.ylabel(metric)\n",
        "  plt.legend([metric, 'val_'+metric])"
      ],
      "metadata": {
        "id": "wD9X027LrRMb"
      },
      "execution_count": 3,
      "outputs": []
    },
    {
      "cell_type": "markdown",
      "source": [
        " IMDB large movie review dataset is a binary classification dataset—all the reviews have either a positive or negative sentiment.     \n",
        " Source: https://www.tensorflow.org/datasets/catalog/imdb_reviews"
      ],
      "metadata": {
        "id": "QqJI8yNyromo"
      }
    },
    {
      "cell_type": "code",
      "source": [
        "dataset, info = tfds.load('imdb_reviews', with_info=True, as_supervised=True)\n",
        "train_dataset, test_dataset = dataset['train'], dataset['test']\n",
        "\n",
        "train_dataset.element_spec"
      ],
      "metadata": {
        "colab": {
          "base_uri": "https://localhost:8080/"
        },
        "id": "Og8ztH2Framu",
        "outputId": "04140912-0544-43be-cfb6-5fa095c00ce2"
      },
      "execution_count": 4,
      "outputs": [
        {
          "output_type": "stream",
          "name": "stdout",
          "text": [
            "\u001b[1mDownloading and preparing dataset imdb_reviews/plain_text/1.0.0 (download: 80.23 MiB, generated: Unknown size, total: 80.23 MiB) to /root/tensorflow_datasets/imdb_reviews/plain_text/1.0.0...\u001b[0m\n",
            "Shuffling and writing examples to /root/tensorflow_datasets/imdb_reviews/plain_text/1.0.0.incomplete55HSKT/imdb_reviews-train.tfrecord\n",
            "Shuffling and writing examples to /root/tensorflow_datasets/imdb_reviews/plain_text/1.0.0.incomplete55HSKT/imdb_reviews-test.tfrecord\n",
            "Shuffling and writing examples to /root/tensorflow_datasets/imdb_reviews/plain_text/1.0.0.incomplete55HSKT/imdb_reviews-unsupervised.tfrecord\n"
          ]
        },
        {
          "output_type": "stream",
          "name": "stderr",
          "text": [
            "WARNING:absl:Dataset is using deprecated text encoder API which will be removed soon. Please use the plain_text version of the dataset and migrate to `tensorflow_text`.\n"
          ]
        },
        {
          "output_type": "stream",
          "name": "stdout",
          "text": [
            "\u001b[1mDataset imdb_reviews downloaded and prepared to /root/tensorflow_datasets/imdb_reviews/plain_text/1.0.0. Subsequent calls will reuse this data.\u001b[0m\n"
          ]
        },
        {
          "output_type": "execute_result",
          "data": {
            "text/plain": [
              "(TensorSpec(shape=(), dtype=tf.string, name=None),\n",
              " TensorSpec(shape=(), dtype=tf.int64, name=None))"
            ]
          },
          "metadata": {},
          "execution_count": 4
        }
      ]
    },
    {
      "cell_type": "code",
      "source": [
        "for example, label in train_dataset.take(1):\n",
        "  print('text: ', example.numpy())\n",
        "  print('label: ', label.numpy())"
      ],
      "metadata": {
        "colab": {
          "base_uri": "https://localhost:8080/"
        },
        "id": "bzN-Hh-_sHWW",
        "outputId": "1933a694-12d9-4c23-b143-b60655406261"
      },
      "execution_count": 5,
      "outputs": [
        {
          "output_type": "stream",
          "name": "stdout",
          "text": [
            "text:  b\"This was an absolutely terrible movie. Don't be lured in by Christopher Walken or Michael Ironside. Both are great actors, but this must simply be their worst role in history. Even their great acting could not redeem this movie's ridiculous storyline. This movie is an early nineties US propaganda piece. The most pathetic scenes were those when the Columbian rebels were making their cases for revolutions. Maria Conchita Alonso appeared phony, and her pseudo-love affair with Walken was nothing but a pathetic emotional plug in a movie that was devoid of any real meaning. I am disappointed that there are movies like this, ruining actor's like Christopher Walken's good name. I could barely sit through it.\"\n",
            "label:  0\n"
          ]
        }
      ]
    },
    {
      "cell_type": "code",
      "source": [
        "BUFFER_SIZE = 10000\n",
        "BATCH_SIZE = 64"
      ],
      "metadata": {
        "id": "S7zGgXd6tpFl"
      },
      "execution_count": 6,
      "outputs": []
    },
    {
      "cell_type": "code",
      "source": [
        "train_dataset = train_dataset.shuffle(BUFFER_SIZE).batch(BATCH_SIZE).prefetch(tf.data.AUTOTUNE)\n",
        "test_dataset = test_dataset.batch(BATCH_SIZE).prefetch(tf.data.AUTOTUNE)"
      ],
      "metadata": {
        "id": "fx_g_q1Ht5C1"
      },
      "execution_count": 7,
      "outputs": []
    },
    {
      "cell_type": "code",
      "source": [
        "for example, label in train_dataset.take(1):\n",
        "  print('texts: ', example.numpy()[:3])\n",
        "  print()\n",
        "  print('labels: ', label.numpy()[:3])"
      ],
      "metadata": {
        "colab": {
          "base_uri": "https://localhost:8080/"
        },
        "id": "9ZtThAZbxXTH",
        "outputId": "da1f92d2-377b-4a1e-d219-3c13e969b024"
      },
      "execution_count": 8,
      "outputs": [
        {
          "output_type": "stream",
          "name": "stdout",
          "text": [
            "texts:  [b\"Cypher is a clever, effective and eerie film that delivers. Its good premise is presented well and it has its content delivered in an effective manner but also in a way the genre demands. Although one could immediately label the film a science fiction, there is a little more to it. It has it's obvious science fiction traits but the film resembles more of a noir/detective feel than anything else which really adds to the story.<br /><br />The film, overall, plays out like it's some kind of nightmare; thus building and retaining a good atmosphere. We're never sure of what exactly is going on, we're never certain why certain things that are happening actually are and we're not entirely sure of certain people, similar to having a dream \\xc2\\x96 the ambiguity reigns over us all \\xc2\\x96 hero included and I haven't seen this pulled off in such a manner in a film before, bar Terry Gilliam's Brazil. Going with the eeriness stated earlier, Cypher presents itself with elements of horror as well as detective, noir and science fiction giving the feeling that there's something in there for everyone and it integrates its elements well.<br /><br />There is also an espionage feeling to the film that aids the detective side of the story. The mystery surrounding just about everyone is disturbing to say the least and I find the fact that the character of Rita Foster (Liu), who is supposed to resemble a femme fatale, can be seen as less of a threat to that of everything else happening around the hero: People whom appear as friends actually aren't, people who say they're helping are actually using and those that appear harmless enough are actually deadlier than they look. Despite a lot of switching things around, twisting the plot several times and following orders that are put across in a way to make them seem that the world will end if they're not carried out; the one thing that seems the most dangerous is any romantic link or connection with Lucy Liu's character \\xc2\\x96 and she's trying to help out(!) The film maintains that feeling of two sides battling a war of espionage, spying and keeping one up on its employees and opponents. The whole thing plays out like some sort of mini-Cold war; something that resembles the U.S.A. and the U.S.S.R. in their war of word's heyday and it really pulls through given the black, bleak, often CGI littered screen that I was glued to. <br /><br />What was also rather interesting and was a nice added touch was the travel insert shot of certain American states made to resemble computer microchips as our hero flies to and from his stated destinations \\xc2\\x96 significant then how the more he acts on his and Foster's own motivation this sequence disappears because he's breaking away from the computerised, repetitive, controlled life that he's being told to live and is branching out.<br /><br />Cyhper is very consistent in its content and has all the elements of a good film. To say it resembles the first Jason Bourne film, only set in the sci-fi genre, isn't cutting it enough slack but you can see the similarities; despite them both being released in the same year. Like I mentioned earlier, there feels like there is something in this film for everyone and if you can look past the rather disappointing ending that a few people may successfully predict, you will find yourself enjoying this film.\"\n",
            " b'\"I thought I\\'d be locked away in a padded cell and they\\'d throw away the key\" (Thus is a paraphrased snatch of dialogue from \"State of Mind\".<br /><br />One wonders in what tangled forest Paula Milne and her co-writer found the magic mushrooms they must have eaten, to create this feeble \"whodunnit\" and bring such rubbish to our screens. A padded cell should indeed be left available.<br /><br />Niamh Cusack did her best, (as did the other actors) but surely her talent deserves a better vehicle than this. The height of absurdity has been reached, and this particular \"State of Mind\" is best buried and forgotten, and certainly not just \"placed in a box and locked away in a drawer\".'\n",
            " b'I guess this would be a great movie for a true believer in organized Christian Dogma, but for anyone with an open mind who believes in free will, rational thinking, the separation of Church & State and GOOD Science Fiction it is a terrible joke!<br /><br />There are some well known actors who were either badly in need of work or had a need to share their personal beliefs with the rest of us heathens.<br /><br />I WAS entertained by this movie in the same way I was entertained by \"Reefer Madness.\" That movie attempted to teach drug education by scare tactics the same way this movie tries to teach \"Christian\" principles with the threat of hell and misery for otherwise good people who don\\'t share their interpretations of our world.<br /><br />It had me howling with laughter and at the same time scared me to realize how many people actually believe that our society should revert to the good old days of the 19th century!']\n",
            "\n",
            "labels:  [1 0 0]\n"
          ]
        }
      ]
    },
    {
      "cell_type": "markdown",
      "source": [
        "**Text Encoder**: Data processing"
      ],
      "metadata": {
        "id": "9c5iWvfnxe4-"
      }
    },
    {
      "cell_type": "code",
      "source": [
        "VOCAB_SIZE = 1000\n",
        "encoder = tf.keras.layers.TextVectorization(\n",
        "    max_tokens=VOCAB_SIZE)\n",
        "encoder.adapt(train_dataset.map(lambda text, label: text))"
      ],
      "metadata": {
        "id": "a12Aif_yxZJh"
      },
      "execution_count": 9,
      "outputs": []
    },
    {
      "cell_type": "code",
      "source": [
        "vocab = np.array(encoder.get_vocabulary())\n",
        "vocab[:20]"
      ],
      "metadata": {
        "colab": {
          "base_uri": "https://localhost:8080/"
        },
        "id": "p7D0043dxlv9",
        "outputId": "41c972a6-919a-4b98-9a36-9a94d831f9fb"
      },
      "execution_count": 10,
      "outputs": [
        {
          "output_type": "execute_result",
          "data": {
            "text/plain": [
              "array(['', '[UNK]', 'the', 'and', 'a', 'of', 'to', 'is', 'in', 'it', 'i',\n",
              "       'this', 'that', 'br', 'was', 'as', 'for', 'with', 'movie', 'but'],\n",
              "      dtype='<U14')"
            ]
          },
          "metadata": {},
          "execution_count": 10
        }
      ]
    },
    {
      "cell_type": "code",
      "source": [
        "encoded_example = encoder(example)[:3].numpy()\n",
        "encoded_example"
      ],
      "metadata": {
        "colab": {
          "base_uri": "https://localhost:8080/"
        },
        "id": "_RADpH0QxoB7",
        "outputId": "74997b1f-fb50-4abb-bad1-0a72db8434a7"
      },
      "execution_count": 11,
      "outputs": [
        {
          "output_type": "execute_result",
          "data": {
            "text/plain": [
              "array([[  1,   7,   4, ...,   0,   0,   0],\n",
              "       [ 10, 199, 438, ...,   0,   0,   0],\n",
              "       [ 10, 479,  11, ...,   0,   0,   0]])"
            ]
          },
          "metadata": {},
          "execution_count": 11
        }
      ]
    },
    {
      "cell_type": "code",
      "source": [
        "for n in range(3):\n",
        "  print(\"Original: \", example[n].numpy())\n",
        "  print(\"Round-trip: \", \" \".join(vocab[encoded_example[n]]))\n",
        "  print()"
      ],
      "metadata": {
        "colab": {
          "base_uri": "https://localhost:8080/"
        },
        "id": "Zvkfq4rMxqfk",
        "outputId": "b116415a-af60-4f59-8b44-243716891c01"
      },
      "execution_count": 12,
      "outputs": [
        {
          "output_type": "stream",
          "name": "stdout",
          "text": [
            "Original:  b\"Cypher is a clever, effective and eerie film that delivers. Its good premise is presented well and it has its content delivered in an effective manner but also in a way the genre demands. Although one could immediately label the film a science fiction, there is a little more to it. It has it's obvious science fiction traits but the film resembles more of a noir/detective feel than anything else which really adds to the story.<br /><br />The film, overall, plays out like it's some kind of nightmare; thus building and retaining a good atmosphere. We're never sure of what exactly is going on, we're never certain why certain things that are happening actually are and we're not entirely sure of certain people, similar to having a dream \\xc2\\x96 the ambiguity reigns over us all \\xc2\\x96 hero included and I haven't seen this pulled off in such a manner in a film before, bar Terry Gilliam's Brazil. Going with the eeriness stated earlier, Cypher presents itself with elements of horror as well as detective, noir and science fiction giving the feeling that there's something in there for everyone and it integrates its elements well.<br /><br />There is also an espionage feeling to the film that aids the detective side of the story. The mystery surrounding just about everyone is disturbing to say the least and I find the fact that the character of Rita Foster (Liu), who is supposed to resemble a femme fatale, can be seen as less of a threat to that of everything else happening around the hero: People whom appear as friends actually aren't, people who say they're helping are actually using and those that appear harmless enough are actually deadlier than they look. Despite a lot of switching things around, twisting the plot several times and following orders that are put across in a way to make them seem that the world will end if they're not carried out; the one thing that seems the most dangerous is any romantic link or connection with Lucy Liu's character \\xc2\\x96 and she's trying to help out(!) The film maintains that feeling of two sides battling a war of espionage, spying and keeping one up on its employees and opponents. The whole thing plays out like some sort of mini-Cold war; something that resembles the U.S.A. and the U.S.S.R. in their war of word's heyday and it really pulls through given the black, bleak, often CGI littered screen that I was glued to. <br /><br />What was also rather interesting and was a nice added touch was the travel insert shot of certain American states made to resemble computer microchips as our hero flies to and from his stated destinations \\xc2\\x96 significant then how the more he acts on his and Foster's own motivation this sequence disappears because he's breaking away from the computerised, repetitive, controlled life that he's being told to live and is branching out.<br /><br />Cyhper is very consistent in its content and has all the elements of a good film. To say it resembles the first Jason Bourne film, only set in the sci-fi genre, isn't cutting it enough slack but you can see the similarities; despite them both being released in the same year. Like I mentioned earlier, there feels like there is something in this film for everyone and if you can look past the rather disappointing ending that a few people may successfully predict, you will find yourself enjoying this film.\"\n",
            "Round-trip:  [UNK] is a [UNK] [UNK] and [UNK] film that [UNK] its good premise is [UNK] well and it has its [UNK] [UNK] in an [UNK] [UNK] but also in a way the genre [UNK] although one could [UNK] [UNK] the film a [UNK] [UNK] there is a little more to it it has its obvious [UNK] [UNK] [UNK] but the film [UNK] more of a [UNK] feel than anything else which really [UNK] to the [UNK] br the film overall plays out like its some kind of [UNK] [UNK] [UNK] and [UNK] a good atmosphere were never sure of what exactly is going on were never certain why certain things that are [UNK] actually are and were not [UNK] sure of certain people similar to having a dream  the [UNK] [UNK] over us all  hero [UNK] and i havent seen this [UNK] off in such a [UNK] in a film before [UNK] [UNK] [UNK] [UNK] going with the [UNK] [UNK] earlier [UNK] [UNK] itself with elements of horror as well as [UNK] [UNK] and [UNK] [UNK] giving the feeling that theres something in there for everyone and it [UNK] its elements [UNK] br there is also an [UNK] feeling to the film that [UNK] the [UNK] side of the story the mystery [UNK] just about everyone is [UNK] to say the least and i find the fact that the character of [UNK] [UNK] [UNK] who is supposed to [UNK] a [UNK] [UNK] can be seen as less of a [UNK] to that of everything else [UNK] around the hero people whom appear as friends actually arent people who say theyre [UNK] are actually using and those that appear [UNK] enough are actually [UNK] than they look despite a lot of [UNK] things around [UNK] the plot several times and [UNK] [UNK] that are put across in a way to make them seem that the world will end if theyre not [UNK] out the one thing that seems the most [UNK] is any romantic [UNK] or [UNK] with [UNK] [UNK] character  and shes trying to help out the film [UNK] that feeling of two [UNK] [UNK] a war of [UNK] [UNK] and [UNK] one up on its [UNK] and [UNK] the whole thing plays out like some sort of [UNK] war something that [UNK] the [UNK] and the [UNK] in their war of words [UNK] and it really [UNK] through given the black [UNK] often [UNK] [UNK] screen that i was [UNK] to br br what was also rather interesting and was a nice [UNK] [UNK] was the [UNK] [UNK] shot of certain american [UNK] made to [UNK] [UNK] [UNK] as our hero [UNK] to and from his [UNK] [UNK]  [UNK] then how the more he [UNK] on his and [UNK] own [UNK] this sequence [UNK] because hes [UNK] away from the [UNK] [UNK] [UNK] life that hes being told to live and is [UNK] [UNK] br [UNK] is very [UNK] in its [UNK] and has all the elements of a good film to say it [UNK] the first [UNK] [UNK] film only set in the scifi genre isnt [UNK] it enough [UNK] but you can see the [UNK] despite them both being released in the same year like i [UNK] earlier there feels like there is something in this film for everyone and if you can look past the rather [UNK] ending that a few people may [UNK] [UNK] you will find yourself [UNK] this film                                                                                                                                                                                                                                                                                             \n",
            "\n",
            "Original:  b'\"I thought I\\'d be locked away in a padded cell and they\\'d throw away the key\" (Thus is a paraphrased snatch of dialogue from \"State of Mind\".<br /><br />One wonders in what tangled forest Paula Milne and her co-writer found the magic mushrooms they must have eaten, to create this feeble \"whodunnit\" and bring such rubbish to our screens. A padded cell should indeed be left available.<br /><br />Niamh Cusack did her best, (as did the other actors) but surely her talent deserves a better vehicle than this. The height of absurdity has been reached, and this particular \"State of Mind\" is best buried and forgotten, and certainly not just \"placed in a box and locked away in a drawer\".'\n",
            "Round-trip:  i thought id be [UNK] away in a [UNK] [UNK] and [UNK] [UNK] away the [UNK] [UNK] is a [UNK] [UNK] of dialogue from [UNK] of [UNK] br one [UNK] in what [UNK] [UNK] [UNK] [UNK] and her [UNK] found the [UNK] [UNK] they must have [UNK] to create this [UNK] [UNK] and bring such [UNK] to our [UNK] a [UNK] [UNK] should indeed be left [UNK] br [UNK] [UNK] did her best as did the other actors but [UNK] her talent deserves a better [UNK] than this the [UNK] of [UNK] has been [UNK] and this particular [UNK] of mind is best [UNK] and [UNK] and certainly not just [UNK] in a [UNK] and [UNK] away in a [UNK]                                                                                                                                                                                                                                                                                                                                                                                                                                                                                                                                                                                                                                                                                                                                                                         \n",
            "\n",
            "Original:  b'I guess this would be a great movie for a true believer in organized Christian Dogma, but for anyone with an open mind who believes in free will, rational thinking, the separation of Church & State and GOOD Science Fiction it is a terrible joke!<br /><br />There are some well known actors who were either badly in need of work or had a need to share their personal beliefs with the rest of us heathens.<br /><br />I WAS entertained by this movie in the same way I was entertained by \"Reefer Madness.\" That movie attempted to teach drug education by scare tactics the same way this movie tries to teach \"Christian\" principles with the threat of hell and misery for otherwise good people who don\\'t share their interpretations of our world.<br /><br />It had me howling with laughter and at the same time scared me to realize how many people actually believe that our society should revert to the good old days of the 19th century!'\n",
            "Round-trip:  i guess this would be a great movie for a true [UNK] in [UNK] [UNK] [UNK] but for anyone with an open mind who [UNK] in free will [UNK] thinking the [UNK] of [UNK] [UNK] and good [UNK] [UNK] it is a terrible [UNK] br there are some well known actors who were either badly in need of work or had a need to [UNK] their personal [UNK] with the rest of us [UNK] br i was [UNK] by this movie in the same way i was [UNK] by [UNK] [UNK] that movie [UNK] to [UNK] [UNK] [UNK] by [UNK] [UNK] the same way this movie tries to [UNK] [UNK] [UNK] with the [UNK] of hell and [UNK] for otherwise good people who dont [UNK] their [UNK] of our [UNK] br it had me [UNK] with [UNK] and at the same time [UNK] me to realize how many people actually believe that our society should [UNK] to the good old days of the [UNK] [UNK]                                                                                                                                                                                                                                                                                                                                                                                                                                                                                                                                                                                                                                                                                                                            \n",
            "\n"
          ]
        }
      ]
    },
    {
      "cell_type": "markdown",
      "source": [
        "**Model Creation**"
      ],
      "metadata": {
        "id": "fINBvh3_xyDe"
      }
    },
    {
      "cell_type": "code",
      "source": [
        "model = tf.keras.Sequential([\n",
        "    encoder,\n",
        "    tf.keras.layers.Embedding(\n",
        "        input_dim=len(encoder.get_vocabulary()),\n",
        "        output_dim=64,\n",
        "        # Use masking to handle the variable sequence lengths\n",
        "        mask_zero=True),\n",
        "    tf.keras.layers.Bidirectional(tf.keras.layers.LSTM(64)),\n",
        "    tf.keras.layers.Dense(64, activation='relu'),\n",
        "    tf.keras.layers.Dense(1)\n",
        "])"
      ],
      "metadata": {
        "id": "3hBtCf4axsNg"
      },
      "execution_count": 13,
      "outputs": []
    },
    {
      "cell_type": "code",
      "source": [
        "print([layer.supports_masking for layer in model.layers])"
      ],
      "metadata": {
        "colab": {
          "base_uri": "https://localhost:8080/"
        },
        "id": "SuO0VjOlx7OJ",
        "outputId": "7e66eaba-7ea4-4697-cf62-41f4b681f71f"
      },
      "execution_count": 14,
      "outputs": [
        {
          "output_type": "stream",
          "name": "stdout",
          "text": [
            "[False, True, True, True, True]\n"
          ]
        }
      ]
    },
    {
      "cell_type": "code",
      "source": [
        "# predict on a sample text without padding.\n",
        "\n",
        "sample_text = ('The movie was cool. The animation and the graphics '\n",
        "               'were out of this world. I would recommend this movie.')\n",
        "predictions = model.predict(np.array([sample_text]))\n",
        "print(predictions[0])"
      ],
      "metadata": {
        "colab": {
          "base_uri": "https://localhost:8080/"
        },
        "id": "g2Tx4ih2x9-Q",
        "outputId": "9e613b79-85e9-44bb-906b-5d5fa7c1f880"
      },
      "execution_count": 15,
      "outputs": [
        {
          "output_type": "stream",
          "name": "stdout",
          "text": [
            "[0.01563608]\n"
          ]
        }
      ]
    },
    {
      "cell_type": "code",
      "source": [
        "# predict on a sample text with padding\n",
        "\n",
        "padding = \"the \" * 2000\n",
        "predictions = model.predict(np.array([sample_text, padding]))\n",
        "print(predictions[0])"
      ],
      "metadata": {
        "colab": {
          "base_uri": "https://localhost:8080/"
        },
        "id": "5gPKy5OQyA-a",
        "outputId": "24cb4a14-e5ac-403a-eaf4-c900f7e844d7"
      },
      "execution_count": 16,
      "outputs": [
        {
          "output_type": "stream",
          "name": "stdout",
          "text": [
            "[0.01563608]\n"
          ]
        }
      ]
    },
    {
      "cell_type": "code",
      "source": [
        "model.compile(loss=tf.keras.losses.BinaryCrossentropy(from_logits=True), optimizer=tf.keras.optimizers.Adam(1e-4), metrics=['accuracy'])"
      ],
      "metadata": {
        "id": "N7IJTRrQyDz4"
      },
      "execution_count": 17,
      "outputs": []
    },
    {
      "cell_type": "markdown",
      "source": [
        "**Training**"
      ],
      "metadata": {
        "id": "j_lx45eVyQwV"
      }
    },
    {
      "cell_type": "code",
      "source": [
        "history = model.fit(train_dataset, epochs=10,\n",
        "                    validation_data=test_dataset,\n",
        "                    validation_steps=30)"
      ],
      "metadata": {
        "colab": {
          "base_uri": "https://localhost:8080/"
        },
        "id": "tAocBJKryLIe",
        "outputId": "fe7621fe-9e19-43f6-801f-cce4ef3fb6c2"
      },
      "execution_count": 18,
      "outputs": [
        {
          "output_type": "stream",
          "name": "stdout",
          "text": [
            "Epoch 1/10\n",
            "391/391 [==============================] - 108s 251ms/step - loss: 0.6715 - accuracy: 0.5387 - val_loss: 0.6697 - val_accuracy: 0.5188\n",
            "Epoch 2/10\n",
            "391/391 [==============================] - 93s 235ms/step - loss: 0.5393 - accuracy: 0.7161 - val_loss: 0.4421 - val_accuracy: 0.7922\n",
            "Epoch 3/10\n",
            "391/391 [==============================] - 92s 233ms/step - loss: 0.3918 - accuracy: 0.8204 - val_loss: 0.3700 - val_accuracy: 0.8276\n",
            "Epoch 4/10\n",
            "391/391 [==============================] - 92s 232ms/step - loss: 0.3499 - accuracy: 0.8443 - val_loss: 0.3422 - val_accuracy: 0.8500\n",
            "Epoch 5/10\n",
            "391/391 [==============================] - 92s 234ms/step - loss: 0.3285 - accuracy: 0.8572 - val_loss: 0.3375 - val_accuracy: 0.8625\n",
            "Epoch 6/10\n",
            "391/391 [==============================] - 93s 236ms/step - loss: 0.3190 - accuracy: 0.8620 - val_loss: 0.3252 - val_accuracy: 0.8604\n",
            "Epoch 7/10\n",
            "391/391 [==============================] - 92s 233ms/step - loss: 0.3110 - accuracy: 0.8668 - val_loss: 0.3221 - val_accuracy: 0.8609\n",
            "Epoch 8/10\n",
            "391/391 [==============================] - 92s 233ms/step - loss: 0.3072 - accuracy: 0.8674 - val_loss: 0.3200 - val_accuracy: 0.8615\n",
            "Epoch 9/10\n",
            "391/391 [==============================] - 92s 234ms/step - loss: 0.3067 - accuracy: 0.8671 - val_loss: 0.3302 - val_accuracy: 0.8615\n",
            "Epoch 10/10\n",
            "391/391 [==============================] - 92s 233ms/step - loss: 0.3025 - accuracy: 0.8682 - val_loss: 0.3183 - val_accuracy: 0.8625\n"
          ]
        }
      ]
    },
    {
      "cell_type": "code",
      "source": [
        "test_loss, test_acc = model.evaluate(test_dataset)\n",
        "\n",
        "print('Test Loss:', test_loss)\n",
        "print('Test Accuracy:', test_acc)"
      ],
      "metadata": {
        "colab": {
          "base_uri": "https://localhost:8080/"
        },
        "id": "fQOb1dh4yTtf",
        "outputId": "61cee86f-80ba-4b7a-aa9a-78e9529976d1"
      },
      "execution_count": 19,
      "outputs": [
        {
          "output_type": "stream",
          "name": "stdout",
          "text": [
            "391/391 [==============================] - 48s 124ms/step - loss: 0.3165 - accuracy: 0.8604\n",
            "Test Loss: 0.31654641032218933\n",
            "Test Accuracy: 0.8604400157928467\n"
          ]
        }
      ]
    },
    {
      "cell_type": "code",
      "source": [
        "plt.figure(figsize=(16, 8))\n",
        "plt.subplot(1, 2, 1)\n",
        "plot_graphs(history, 'accuracy')\n",
        "plt.ylim(None, 1)\n",
        "plt.subplot(1, 2, 2)\n",
        "plot_graphs(history, 'loss')\n",
        "plt.ylim(0, None)"
      ],
      "metadata": {
        "colab": {
          "base_uri": "https://localhost:8080/",
          "height": 519
        },
        "id": "BSxWPSYf57AJ",
        "outputId": "85264668-6c06-47af-bd16-16a9b6f1c0fd"
      },
      "execution_count": 20,
      "outputs": [
        {
          "output_type": "execute_result",
          "data": {
            "text/plain": [
              "(0.0, 0.6899769470095635)"
            ]
          },
          "metadata": {},
          "execution_count": 20
        },
        {
          "output_type": "display_data",
          "data": {
            "image/png": "[encoded data removed]",
            "text/plain": [
              "<Figure size 1152x576 with 2 Axes>"
            ]
          },
          "metadata": {
            "needs_background": "light"
          }
        }
      ]
    },
    {
      "cell_type": "markdown",
      "source": [
        "**prediction >= 0.0, implies positive else it is negative.**"
      ],
      "metadata": {
        "id": "KQNLKuKg6BxU"
      }
    },
    {
      "cell_type": "code",
      "source": [
        "sample_text = ('The movie was cool. The animation and the graphics '\n",
        "               'were out of this world. I would recommend this movie.')\n",
        "predictions = model.predict(np.array([sample_text]))"
      ],
      "metadata": {
        "id": "dLWPOm9k5-sl"
      },
      "execution_count": 21,
      "outputs": []
    },
    {
      "cell_type": "code",
      "source": [
        "model = tf.keras.Sequential([\n",
        "    encoder,\n",
        "    tf.keras.layers.Embedding(len(encoder.get_vocabulary()), 64, mask_zero=True),\n",
        "    tf.keras.layers.Bidirectional(tf.keras.layers.LSTM(64,  return_sequences=True)),\n",
        "    tf.keras.layers.Bidirectional(tf.keras.layers.LSTM(32)),\n",
        "    tf.keras.layers.Dense(64, activation='relu'),\n",
        "    tf.keras.layers.Dropout(0.5),\n",
        "    tf.keras.layers.Dense(1)\n",
        "])"
      ],
      "metadata": {
        "id": "5AOqYXbL6Jmt"
      },
      "execution_count": 22,
      "outputs": []
    },
    {
      "cell_type": "code",
      "source": [
        "model.compile(loss=tf.keras.losses.BinaryCrossentropy(from_logits=True),\n",
        "              optimizer=tf.keras.optimizers.Adam(1e-4),\n",
        "              metrics=['accuracy'])"
      ],
      "metadata": {
        "id": "nqfP5l--6M24"
      },
      "execution_count": 23,
      "outputs": []
    },
    {
      "cell_type": "code",
      "source": [
        "history = model.fit(train_dataset, epochs=10,\n",
        "                    validation_data=test_dataset,\n",
        "                    validation_steps=30)"
      ],
      "metadata": {
        "colab": {
          "base_uri": "https://localhost:8080/"
        },
        "id": "LTH3XKtH6Ot2",
        "outputId": "c033efcb-de69-49c2-8307-78dbe885b4a9"
      },
      "execution_count": 24,
      "outputs": [
        {
          "output_type": "stream",
          "name": "stdout",
          "text": [
            "Epoch 1/10\n",
            "391/391 [==============================] - 197s 456ms/step - loss: 0.6452 - accuracy: 0.5567 - val_loss: 0.4762 - val_accuracy: 0.7875\n",
            "Epoch 2/10\n",
            "391/391 [==============================] - 170s 433ms/step - loss: 0.4108 - accuracy: 0.8221 - val_loss: 0.3650 - val_accuracy: 0.8365\n",
            "Epoch 3/10\n",
            "391/391 [==============================] - 168s 427ms/step - loss: 0.3473 - accuracy: 0.8535 - val_loss: 0.3375 - val_accuracy: 0.8505\n",
            "Epoch 4/10\n",
            "391/391 [==============================] - 170s 432ms/step - loss: 0.3231 - accuracy: 0.8633 - val_loss: 0.3253 - val_accuracy: 0.8505\n",
            "Epoch 5/10\n",
            "391/391 [==============================] - 167s 426ms/step - loss: 0.3159 - accuracy: 0.8676 - val_loss: 0.3186 - val_accuracy: 0.8510\n",
            "Epoch 6/10\n",
            "391/391 [==============================] - 167s 425ms/step - loss: 0.3083 - accuracy: 0.8690 - val_loss: 0.3171 - val_accuracy: 0.8557\n",
            "Epoch 7/10\n",
            "391/391 [==============================] - 169s 429ms/step - loss: 0.3045 - accuracy: 0.8736 - val_loss: 0.3337 - val_accuracy: 0.8651\n",
            "Epoch 8/10\n",
            "391/391 [==============================] - 167s 425ms/step - loss: 0.3023 - accuracy: 0.8728 - val_loss: 0.3174 - val_accuracy: 0.8609\n",
            "Epoch 9/10\n",
            "391/391 [==============================] - 168s 428ms/step - loss: 0.3004 - accuracy: 0.8716 - val_loss: 0.3334 - val_accuracy: 0.8646\n",
            "Epoch 10/10\n",
            "391/391 [==============================] - 171s 435ms/step - loss: 0.2940 - accuracy: 0.8735 - val_loss: 0.3159 - val_accuracy: 0.8635\n"
          ]
        }
      ]
    },
    {
      "cell_type": "code",
      "source": [
        "test_loss, test_acc = model.evaluate(test_dataset)\n",
        "\n",
        "print('Test Loss:', test_loss)\n",
        "print('Test Accuracy:', test_acc)"
      ],
      "metadata": {
        "colab": {
          "base_uri": "https://localhost:8080/"
        },
        "id": "vX0PtVOE6QuO",
        "outputId": "5efa8832-5d1c-4dfb-bd92-70b53d3ec14f"
      },
      "execution_count": 25,
      "outputs": [
        {
          "output_type": "stream",
          "name": "stdout",
          "text": [
            "391/391 [==============================] - 82s 211ms/step - loss: 0.3135 - accuracy: 0.8624\n",
            "Test Loss: 0.3135310113430023\n",
            "Test Accuracy: 0.8624399900436401\n"
          ]
        }
      ]
    },
    {
      "cell_type": "code",
      "source": [
        "# predict on a sample text without padding.\n",
        "\n",
        "sample_text = ('The movie was not good. The animation and the graphics '\n",
        "               'were terrible. I would not recommend this movie.')\n",
        "predictions = model.predict(np.array([sample_text]))\n",
        "print(predictions)"
      ],
      "metadata": {
        "colab": {
          "base_uri": "https://localhost:8080/"
        },
        "id": "vn1fbbon6TDI",
        "outputId": "afcc483a-58aa-4127-ba3a-2f1856a5b7ff"
      },
      "execution_count": 26,
      "outputs": [
        {
          "output_type": "stream",
          "name": "stdout",
          "text": [
            "[[-2.016715]]\n"
          ]
        }
      ]
    },
    {
      "cell_type": "code",
      "source": [
        "plt.figure(figsize=(16, 6))\n",
        "plt.subplot(1, 2, 1)\n",
        "plot_graphs(history, 'accuracy')\n",
        "plt.subplot(1, 2, 2)\n",
        "plot_graphs(history, 'loss')"
      ],
      "metadata": {
        "colab": {
          "base_uri": "https://localhost:8080/",
          "height": 388
        },
        "id": "jJRDo44b6Uz6",
        "outputId": "724ec69e-a644-433c-a0be-57b596db5b50"
      },
      "execution_count": 27,
      "outputs": [
        {
          "output_type": "display_data",
          "data": {
            "image/png": "[encoded data removed]",
            "text/plain": [
              "<Figure size 1152x432 with 2 Axes>"
            ]
          },
          "metadata": {
            "needs_background": "light"
          }
        }
      ]
    },
    {
      "cell_type": "code",
      "source": [
        ""
      ],
      "metadata": {
        "id": "1TtqCpkJ6XEs"
      },
      "execution_count": 27,
      "outputs": []
    }
  ]
}